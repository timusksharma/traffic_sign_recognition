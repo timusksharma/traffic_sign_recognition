{
  "nbformat": 4,
  "nbformat_minor": 0,
  "metadata": {
    "colab": {
      "name": "traffic_sign_processing.ipynb",
      "provenance": [],
      "collapsed_sections": []
    },
    "kernelspec": {
      "name": "python3",
      "display_name": "Python 3"
    }
  },
  "cells": [
    {
      "cell_type": "markdown",
      "metadata": {
        "id": "p0iYkmdvEKCK"
      },
      "source": [
        "#Traffic Signs Recognition\n",
        "In this Python project example, we will build a deep neural network model that can classify traffic signs present in the image into different categories. With this model, we are able to read and understand traffic signs which are a very important task for all autonomous vehicles.\n",
        "\n",
        " Please Click Below Link To download **Dataset**\n",
        "\n",
        "[DATASET Download Link : GTSRB - German Traffic Sign Recognition Benchmark](https://www.kaggle.com/meowmeowmeowmeowmeow/gtsrb-german-traffic-sign)"
      ]
    },
    {
      "cell_type": "markdown",
      "metadata": {
        "id": "WR5xL7f4BoO6"
      },
      "source": [
        "#Mounting Google Drive"
      ]
    },
    {
      "cell_type": "code",
      "metadata": {
        "id": "rJAVXSM2uL6l"
      },
      "source": [
        "#pip install numpy pandas matplotlib tensorflow keras sklearn\n",
        "from google.colab import drive\n",
        "drive.mount(\"/content/gdrive\")"
      ],
      "execution_count": null,
      "outputs": []
    },
    {
      "cell_type": "markdown",
      "metadata": {
        "id": "UnsEtfC5CG0q"
      },
      "source": [
        "#Unziping Dataset\n",
        "\n",
        "\n",
        "\n"
      ]
    },
    {
      "cell_type": "code",
      "metadata": {
        "id": "QtfOyWe4vG0U"
      },
      "source": [
        "#!unzip \"/content/gdrive/My Drive/data/archive.zip\" -d \"/content/gdrive/My Drive/data/dataset\""
      ],
      "execution_count": null,
      "outputs": []
    },
    {
      "cell_type": "markdown",
      "metadata": {
        "id": "7O6vZ6UGCcHR"
      },
      "source": [
        "#Importing All Required Library Files"
      ]
    },
    {
      "cell_type": "code",
      "metadata": {
        "id": "mJb6ydgIytyp"
      },
      "source": [
        "import os\n",
        "import numpy as np\n",
        "import pandas as pd\n",
        "import matplotlib.pyplot as plt\n",
        "from PIL import Image\n",
        "import tensorflow as tf\n",
        "from sklearn.model_selection import train_test_split\n",
        "from keras.utils import to_categorical\n",
        "from keras.models import Sequential\n",
        "from keras.layers import Conv2D, MaxPool2D, Dense, Flatten,Dropout\n",
        "X = []\n",
        "Y = []\n",
        "total_class = 43\n",
        "cur_directory = os.getcwd()"
      ],
      "execution_count": null,
      "outputs": []
    },
    {
      "cell_type": "markdown",
      "metadata": {
        "id": "dzuiUVwDCrz4"
      },
      "source": [
        "#Converting Images To Array"
      ]
    },
    {
      "cell_type": "code",
      "metadata": {
        "id": "Eu4hMdGL5PYR",
        "outputId": "9345a6c3-6dfc-4f2f-e799-8f2683371f06",
        "colab": {
          "base_uri": "https://localhost:8080/",
          "height": 34
        }
      },
      "source": [
        "#The dataset has folders from 0–42 i.e. 43 classes\n",
        "cur_directory = \"/content/gdrive/My Drive/data/dataset/\"\n",
        "for index in range(total_class):\n",
        "  path = os.path.join(cur_directory,\"train\",str(index))\n",
        "  images = os.listdir(path)\n",
        "#iterating on all the images of the index folder\n",
        "  for img in images:\n",
        "    try:\n",
        "      image = Image.open(path + '/'+ img)\n",
        "      image = image.resize((30,30))\n",
        "      image = np.array(image)\n",
        "      X.append(image)\n",
        "      Y.append(index)\n",
        "    except:\n",
        "        print(\"Error loading image\")\n",
        "X = np.array(X)\n",
        "Y = np.array(Y)\n",
        "print(X.shape, Y.shape)"
      ],
      "execution_count": null,
      "outputs": [
        {
          "output_type": "stream",
          "text": [
            "(39209, 30, 30, 3) (39209,)\n"
          ],
          "name": "stdout"
        }
      ]
    },
    {
      "cell_type": "markdown",
      "metadata": {
        "id": "wPygWQ3BC9F0"
      },
      "source": [
        "#One Hot Encoding The labels"
      ]
    },
    {
      "cell_type": "code",
      "metadata": {
        "id": "Yd6yaWgs5S03",
        "outputId": "b5ffcf37-bafb-4af7-e20a-b9fda8cdff22",
        "colab": {
          "base_uri": "https://localhost:8080/",
          "height": 50
        }
      },
      "source": [
        "x_train, x_test, y_train, y_test = train_test_split(X, Y, test_size=0.2, random_state=42)\n",
        "print(\"Shape of x_train: \", x_train.shape, \"and y_train:\",y_train.shape)\n",
        "print(\"Shape of x_test: \", x_test.shape, \" and y_test:\",y_test.shape)\n",
        "#one hot encoding the labels\n",
        "y_train = to_categorical(y_train, 43)\n",
        "y_test = to_categorical(y_test, 43)"
      ],
      "execution_count": null,
      "outputs": [
        {
          "output_type": "stream",
          "text": [
            "Shape of x_train:  (31367, 30, 30, 3) and y_train: (31367,)\n",
            "Shape of x_test:  (7842, 30, 30, 3)  and y_test: (7842,)\n"
          ],
          "name": "stdout"
        }
      ]
    },
    {
      "cell_type": "markdown",
      "metadata": {
        "id": "0U_KomTDDIK7"
      },
      "source": [
        "#Performing CNN Maxpool Softmax Adam"
      ]
    },
    {
      "cell_type": "code",
      "metadata": {
        "id": "0ym12cgZ5h62"
      },
      "source": [
        "model = Sequential()\n",
        "model.add(Conv2D(filters=32, kernel_size=(5,5), activation='relu', input_shape=x_train.shape[1:]))\n",
        "model.add(Conv2D(filters=32, kernel_size=(5,5), activation='relu'))\n",
        "model.add(MaxPool2D(pool_size=(2, 2)))\n",
        "model.add(Dropout(rate=0.25))\n",
        "model.add(Conv2D(filters=64, kernel_size=(3, 3), activation='relu'))\n",
        "model.add(Conv2D(filters=64, kernel_size=(3, 3), activation='relu'))\n",
        "model.add(MaxPool2D(pool_size=(2, 2)))\n",
        "model.add(Dropout(rate=0.25))\n",
        "model.add(Flatten())\n",
        "model.add(Dense(256, activation='relu'))\n",
        "model.add(Dropout(rate=0.5))\n",
        "model.add(Dense(43, activation='softmax'))\n",
        "model.compile(loss='categorical_crossentropy', optimizer='adam', metrics=['accuracy'])"
      ],
      "execution_count": null,
      "outputs": []
    },
    {
      "cell_type": "markdown",
      "metadata": {
        "id": "MkAnLkKFDlit"
      },
      "source": [
        "#Training Model"
      ]
    },
    {
      "cell_type": "code",
      "metadata": {
        "id": "wiUoo3y85kTk",
        "outputId": "57e28456-15e2-45b2-8e52-2857592d6a50",
        "colab": {
          "base_uri": "https://localhost:8080/",
          "height": 521
        }
      },
      "source": [
        "epochs = 15\n",
        "history = model.fit(x_train, y_train, batch_size=64, epochs=epochs,validation_data=(x_test, y_test))\n",
        "model.save('/content/gdrive/My Drive/data/dataset/traffic_recognition.h5')"
      ],
      "execution_count": null,
      "outputs": [
        {
          "output_type": "stream",
          "text": [
            "Epoch 1/15\n",
            "491/491 [==============================] - 125s 254ms/step - loss: 2.6224 - accuracy: 0.3693 - val_loss: 1.1058 - val_accuracy: 0.7206\n",
            "Epoch 2/15\n",
            "491/491 [==============================] - 124s 253ms/step - loss: 1.1764 - accuracy: 0.6624 - val_loss: 0.4999 - val_accuracy: 0.8727\n",
            "Epoch 3/15\n",
            "491/491 [==============================] - 124s 252ms/step - loss: 0.8370 - accuracy: 0.7550 - val_loss: 0.3350 - val_accuracy: 0.9151\n",
            "Epoch 4/15\n",
            "491/491 [==============================] - 127s 258ms/step - loss: 0.6628 - accuracy: 0.8046 - val_loss: 0.2950 - val_accuracy: 0.9272\n",
            "Epoch 5/15\n",
            "491/491 [==============================] - 123s 251ms/step - loss: 0.5840 - accuracy: 0.8254 - val_loss: 0.2686 - val_accuracy: 0.9320\n",
            "Epoch 6/15\n",
            "491/491 [==============================] - 124s 253ms/step - loss: 0.5364 - accuracy: 0.8392 - val_loss: 0.1959 - val_accuracy: 0.9482\n",
            "Epoch 7/15\n",
            "491/491 [==============================] - 124s 253ms/step - loss: 0.4692 - accuracy: 0.8607 - val_loss: 0.1633 - val_accuracy: 0.9529\n",
            "Epoch 8/15\n",
            "491/491 [==============================] - 123s 251ms/step - loss: 0.4155 - accuracy: 0.8753 - val_loss: 0.1459 - val_accuracy: 0.9607\n",
            "Epoch 9/15\n",
            "491/491 [==============================] - 127s 258ms/step - loss: 0.4039 - accuracy: 0.8807 - val_loss: 0.1554 - val_accuracy: 0.9563\n",
            "Epoch 10/15\n",
            "491/491 [==============================] - 124s 253ms/step - loss: 0.3399 - accuracy: 0.8987 - val_loss: 0.1212 - val_accuracy: 0.9661\n",
            "Epoch 11/15\n",
            "491/491 [==============================] - 124s 252ms/step - loss: 0.3074 - accuracy: 0.9084 - val_loss: 0.1014 - val_accuracy: 0.9732\n",
            "Epoch 12/15\n",
            "491/491 [==============================] - 124s 253ms/step - loss: 0.2993 - accuracy: 0.9098 - val_loss: 0.1110 - val_accuracy: 0.9689\n",
            "Epoch 13/15\n",
            "491/491 [==============================] - 125s 255ms/step - loss: 0.2596 - accuracy: 0.9242 - val_loss: 0.0838 - val_accuracy: 0.9782\n",
            "Epoch 14/15\n",
            "491/491 [==============================] - 125s 254ms/step - loss: 0.2366 - accuracy: 0.9317 - val_loss: 0.0766 - val_accuracy: 0.9788\n",
            "Epoch 15/15\n",
            "491/491 [==============================] - 124s 252ms/step - loss: 0.2278 - accuracy: 0.9323 - val_loss: 0.0889 - val_accuracy: 0.9762\n"
          ],
          "name": "stdout"
        }
      ]
    },
    {
      "cell_type": "markdown",
      "metadata": {
        "id": "ZpmoLbJVDrx9"
      },
      "source": [
        "#Ploting Graph of Accuracy and Loss"
      ]
    },
    {
      "cell_type": "code",
      "metadata": {
        "id": "BKgjFHYQ5mky",
        "outputId": "84a65703-478f-48d6-d3c0-8c19a0eaef80",
        "colab": {
          "base_uri": "https://localhost:8080/",
          "height": 590
        }
      },
      "source": [
        "plt.figure(0)\n",
        "plt.plot(history.history['accuracy'], label='training accuracy')\n",
        "plt.plot(history.history['val_accuracy'], label='val accuracy')\n",
        "plt.title('Accuracy')\n",
        "plt.xlabel('epochs')\n",
        "plt.ylabel('accuracy')\n",
        "plt.legend()\n",
        "plt.figure(1)\n",
        "plt.plot(history.history['loss'], label='training loss')\n",
        "plt.plot(history.history['val_loss'], label='val loss')\n",
        "plt.title('Loss')\n",
        "plt.xlabel('epochs')\n",
        "plt.ylabel('loss')\n",
        "plt.legend()"
      ],
      "execution_count": null,
      "outputs": [
        {
          "output_type": "execute_result",
          "data": {
            "text/plain": [
              "<matplotlib.legend.Legend at 0x7fdc6c9c5588>"
            ]
          },
          "metadata": {
            "tags": []
          },
          "execution_count": 8
        },
        {
          "output_type": "display_data",
          "data": {
            "image/png": "[encoded data removed]",
            "text/plain": [
              "<Figure size 432x288 with 1 Axes>"
            ]
          },
          "metadata": {
            "tags": [],
            "needs_background": "light"
          }
        },
        {
          "output_type": "display_data",
          "data": {
            "image/png": "[encoded data removed]",
            "text/plain": [
              "<Figure size 432x288 with 1 Axes>"
            ]
          },
          "metadata": {
            "tags": [],
            "needs_background": "light"
          }
        }
      ]
    },
    {
      "cell_type": "markdown",
      "metadata": {
        "id": "66SuHiyXD0bl"
      },
      "source": [
        "#Testing Model Accuracy"
      ]
    },
    {
      "cell_type": "code",
      "metadata": {
        "id": "_GY2PBBcBD1x",
        "outputId": "13545990-de57-45d3-bd9c-bd209404b072",
        "colab": {
          "base_uri": "https://localhost:8080/",
          "height": 104
        }
      },
      "source": [
        "#Testing the model\n",
        "from sklearn.metrics import accuracy_score\n",
        "import pandas as pd\n",
        "y_test = pd.read_csv(cur_directory+\"Test.csv\")\n",
        "labels = y_test['ClassId'].values\n",
        "img_paths = y_test['Path'].values\n",
        "test_data=[]\n",
        "for path in img_paths:\n",
        "  image = Image.open(cur_directory+path)\n",
        "  image = image.resize((30,30))\n",
        "  test_data.append(np.array(image))\n",
        "test_data = np.array(test_data)\n",
        "pred = model.predict_classes(test_data)\n",
        "#Accuracy with the test data\n",
        "from sklearn.metrics import accuracy_score\n",
        "accuracy_score(labels, pred)"
      ],
      "execution_count": null,
      "outputs": [
        {
          "output_type": "stream",
          "text": [
            "WARNING:tensorflow:From <ipython-input-9-59a514f84dfe>:13: Sequential.predict_classes (from tensorflow.python.keras.engine.sequential) is deprecated and will be removed after 2021-01-01.\n",
            "Instructions for updating:\n",
            "Please use instead:* `np.argmax(model.predict(x), axis=-1)`,   if your model does multi-class classification   (e.g. if it uses a `softmax` last-layer activation).* `(model.predict(x) > 0.5).astype(\"int32\")`,   if your model does binary classification   (e.g. if it uses a `sigmoid` last-layer activation).\n"
          ],
          "name": "stdout"
        },
        {
          "output_type": "execute_result",
          "data": {
            "text/plain": [
              "0.9371338083927158"
            ]
          },
          "metadata": {
            "tags": []
          },
          "execution_count": 9
        }
      ]
    },
    {
      "cell_type": "markdown",
      "metadata": {
        "id": "YjBLtaHbD9_O"
      },
      "source": [
        "#Practical"
      ]
    },
    {
      "cell_type": "code",
      "metadata": {
        "id": "OWSWSyROBLN8",
        "outputId": "a9cbb784-da3e-4442-fbed-e2f8ed147ebd",
        "colab": {
          "base_uri": "https://localhost:8080/",
          "height": 50
        }
      },
      "source": [
        "#CHECK YOUR MODEL\n",
        "from PIL import ImageTk, Image\n",
        "import numpy\n",
        "#load the trained model to classify sign\n",
        "from keras.models import load_model\n",
        "model = load_model(\"/content/gdrive/My Drive/data/dataset/traffic_recognition.h5\")\n",
        "#dictionary to label all traffic signs class\n",
        "\n",
        "classes = { 1:'Speed limit (20km/h)',\n",
        "    2:'Speed limit (30km/h)',\n",
        "    3:'Speed limit (50km/h)',\n",
        "    4:'Speed limit (60km/h)',\n",
        "    5:'Speed limit (70km/h)',\n",
        "    6:'Speed limit (80km/h)',\n",
        "    7:'End of speed limit (80km/h)',\n",
        "    8:'Speed limit (100km/h)',\n",
        "    9:'Speed limit (120km/h)',\n",
        "    10:'No passing',\n",
        "    11:'No passing veh over 3.5 tons',\n",
        "    12:'Right-of-way at intersection',\n",
        "    13:'Priority road',\n",
        "    14:'Yield',\n",
        "    15:'Stop',\n",
        "    16:'No vehicles',\n",
        "    17:'Veh > 3.5 tons prohibited',\n",
        "    18:'No entry',\n",
        "    19:'General caution',\n",
        "    20:'Dangerous curve left',\n",
        "    21:'Dangerous curve right',\n",
        "    22:'Double curve',\n",
        "    23:'Bumpy road',\n",
        "    24:'Slippery road',\n",
        "    25:'Road narrows on the right',\n",
        "    26:'Road work',\n",
        "    27:'Traffic signals',\n",
        "    28:'Pedestrians',\n",
        "    29:'Children crossing',\n",
        "    30:'Bicycles crossing',\n",
        "    31:'Beware of ice/snow',\n",
        "    32:'Wild animals crossing',\n",
        "    33:'End speed + passing limits',\n",
        "    34:'Turn right ahead',\n",
        "    35:'Turn left ahead',\n",
        "    36:'Ahead only',\n",
        "    37:'Go straight or right',\n",
        "    38:'Go straight or left',\n",
        "    39:'Keep right',\n",
        "    40:'Keep left',\n",
        "    41:'Roundabout mandatory',\n",
        "    42:'End of no passing',\n",
        "    43:'End no passing veh > 3.5 tons' }\n",
        "def classify(file_path):\n",
        "    image = Image.open(file_path)\n",
        "    image = image.resize((30,30))\n",
        "    image = numpy.expand_dims(image, axis=0)\n",
        "    image = numpy.array(image)\n",
        "    print(image.shape)\n",
        "    pred = model.predict_classes([image])[0]\n",
        "    sign = classes[pred+1]\n",
        "    print(sign)\n",
        "classify(\"/content/gdrive/My Drive/data/dataset/test/00032.png\")"
      ],
      "execution_count": null,
      "outputs": [
        {
          "output_type": "stream",
          "text": [
            "(1, 30, 30, 3)\n",
            "Turn left ahead\n"
          ],
          "name": "stdout"
        }
      ]
    },
    {
      "cell_type": "code",
      "metadata": {
        "id": "RCVMGU8iBfAY"
      },
      "source": [
        ""
      ],
      "execution_count": null,
      "outputs": []
    }
  ]
}